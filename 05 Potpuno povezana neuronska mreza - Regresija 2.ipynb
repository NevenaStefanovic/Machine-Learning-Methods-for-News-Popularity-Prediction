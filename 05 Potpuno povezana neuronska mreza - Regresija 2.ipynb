{
 "cells": [
  {
   "cell_type": "code",
   "execution_count": 1,
   "id": "embedded-japanese",
   "metadata": {},
   "outputs": [],
   "source": [
    "import numpy as np\n",
    "import matplotlib.pyplot as plt\n",
    "import seaborn as sns\n",
    "import pandas as pd\n",
    "from sklearn import datasets\n",
    "from sklearn import model_selection\n",
    "from sklearn import preprocessing\n",
    "\n",
    "from tensorflow.keras.models import Sequential\n",
    "from tensorflow.keras.layers import Input, Dense\n",
    "from tensorflow.keras.optimizers import Adam\n",
    "from tensorflow.keras.losses import mean_squared_error\n",
    "from tensorflow.keras.metrics import mean_absolute_error\n",
    "from tensorflow.keras.callbacks import EarlyStopping"
   ]
  },
  {
   "cell_type": "code",
   "execution_count": 2,
   "id": "specified-prompt",
   "metadata": {},
   "outputs": [],
   "source": [
    "seed_value = 7\n",
    "\n",
    "import os\n",
    "os.environ['PYTHONHASHSEED']=str(seed_value)\n",
    "os.environ[\"CUDA_VISIBLE_DEVICES\"] = \"\"\n",
    "\n",
    "import random\n",
    "random.seed(seed_value)\n",
    "\n",
    "np.random.seed(seed_value)\n",
    "\n",
    "import tensorflow as tf\n",
    "tf.random.set_seed(seed_value)\n",
    "\n",
    "import keras.backend as K\n",
    "session_conf = tf.compat.v1.ConfigProto(intra_op_parallelism_threads=1, inter_op_parallelism_threads=1)\n",
    "sess = tf.compat.v1.Session(graph=tf.compat.v1.get_default_graph(), config=session_conf)\n",
    "tf.compat.v1.keras.backend.set_session(sess)"
   ]
  },
  {
   "cell_type": "code",
   "execution_count": 3,
   "id": "vertical-degree",
   "metadata": {},
   "outputs": [],
   "source": [
    "data = pd.read_csv('OnlineNewsPopularity.csv')"
   ]
  },
  {
   "cell_type": "code",
   "execution_count": 4,
   "id": "boring-bennett",
   "metadata": {},
   "outputs": [],
   "source": [
    "data.columns = data.columns.str.lstrip()\n",
    "data = data.drop(labels=['url', 'timedelta'], axis=1)"
   ]
  },
  {
   "cell_type": "code",
   "execution_count": 5,
   "id": "painful-listening",
   "metadata": {},
   "outputs": [
    {
     "data": {
      "image/png": "[encoded data removed]",
      "text/plain": [
       "<Figure size 432x288 with 1 Axes>"
      ]
     },
     "metadata": {
      "needs_background": "light"
     },
     "output_type": "display_data"
    }
   ],
   "source": [
    "sns.boxplot(x=data['shares'])\n",
    "plt.show()"
   ]
  },
  {
   "cell_type": "code",
   "execution_count": 6,
   "id": "primary-oxford",
   "metadata": {},
   "outputs": [
    {
     "data": {
      "text/plain": [
       "(39644, 59)"
      ]
     },
     "execution_count": 6,
     "metadata": {},
     "output_type": "execute_result"
    }
   ],
   "source": [
    "data.shape"
   ]
  },
  {
   "cell_type": "code",
   "execution_count": 7,
   "id": "favorite-clause",
   "metadata": {},
   "outputs": [],
   "source": [
    "#for attribute in numeric_attributes:\n",
    "    # Izračunavanje granica za definisanje outliera\n",
    "Q1 = data['shares'].quantile(0.25)\n",
    "Q3 = data['shares'].quantile(0.75)\n",
    "IQR = Q3 - Q1\n",
    "lower_bound = Q1 - 1.5 * IQR\n",
    "upper_bound = Q3 + 1.5 * IQR\n",
    "\n",
    "    # Filtriranje podataka bez outliera\n",
    "data = data[(data['shares'] >= lower_bound) & (data['shares'] <= upper_bound)]"
   ]
  },
  {
   "cell_type": "code",
   "execution_count": 8,
   "id": "behavioral-hughes",
   "metadata": {},
   "outputs": [
    {
     "data": {
      "image/png": "[encoded data removed]",
      "text/plain": [
       "<Figure size 432x288 with 1 Axes>"
      ]
     },
     "metadata": {
      "needs_background": "light"
     },
     "output_type": "display_data"
    }
   ],
   "source": [
    "sns.boxplot(x=data['shares'])\n",
    "plt.show()"
   ]
  },
  {
   "cell_type": "code",
   "execution_count": 9,
   "id": "pregnant-planet",
   "metadata": {},
   "outputs": [
    {
     "data": {
      "text/plain": [
       "1671.9726519100932"
      ]
     },
     "execution_count": 9,
     "metadata": {},
     "output_type": "execute_result"
    }
   ],
   "source": [
    "data.shares.mean()"
   ]
  },
  {
   "cell_type": "code",
   "execution_count": 10,
   "id": "prime-memorial",
   "metadata": {},
   "outputs": [
    {
     "data": {
      "text/plain": [
       "(35103, 59)"
      ]
     },
     "execution_count": 10,
     "metadata": {},
     "output_type": "execute_result"
    }
   ],
   "source": [
    "data.shape"
   ]
  },
  {
   "cell_type": "code",
   "execution_count": 11,
   "id": "subject-shower",
   "metadata": {},
   "outputs": [],
   "source": [
    "y = data.shares\n",
    "x = data.drop(labels=['shares'], axis =1)"
   ]
  },
  {
   "cell_type": "code",
   "execution_count": 12,
   "id": "pediatric-panama",
   "metadata": {},
   "outputs": [],
   "source": [
    "x_train, x_test, y_train, y_test = model_selection.train_test_split(x, y, test_size=0.33, random_state=7)"
   ]
  },
  {
   "cell_type": "code",
   "execution_count": 13,
   "id": "elect-carpet",
   "metadata": {},
   "outputs": [],
   "source": [
    "scaler = preprocessing.StandardScaler()"
   ]
  },
  {
   "cell_type": "code",
   "execution_count": 14,
   "id": "administrative-anderson",
   "metadata": {},
   "outputs": [
    {
     "data": {
      "text/html": [
       "<style>#sk-container-id-1 {color: black;background-color: white;}#sk-container-id-1 pre{padding: 0;}#sk-container-id-1 div.sk-toggleable {background-color: white;}#sk-container-id-1 label.sk-toggleable__label {cursor: pointer;display: block;width: 100%;margin-bottom: 0;padding: 0.3em;box-sizing: border-box;text-align: center;}#sk-container-id-1 label.sk-toggleable__label-arrow:before {content: \"▸\";float: left;margin-right: 0.25em;color: #696969;}#sk-container-id-1 label.sk-toggleable__label-arrow:hover:before {color: black;}#sk-container-id-1 div.sk-estimator:hover label.sk-toggleable__label-arrow:before {color: black;}#sk-container-id-1 div.sk-toggleable__content {max-height: 0;max-width: 0;overflow: hidden;text-align: left;background-color: #f0f8ff;}#sk-container-id-1 div.sk-toggleable__content pre {margin: 0.2em;color: black;border-radius: 0.25em;background-color: #f0f8ff;}#sk-container-id-1 input.sk-toggleable__control:checked~div.sk-toggleable__content {max-height: 200px;max-width: 100%;overflow: auto;}#sk-container-id-1 input.sk-toggleable__control:checked~label.sk-toggleable__label-arrow:before {content: \"▾\";}#sk-container-id-1 div.sk-estimator input.sk-toggleable__control:checked~label.sk-toggleable__label {background-color: #d4ebff;}#sk-container-id-1 div.sk-label input.sk-toggleable__control:checked~label.sk-toggleable__label {background-color: #d4ebff;}#sk-container-id-1 input.sk-hidden--visually {border: 0;clip: rect(1px 1px 1px 1px);clip: rect(1px, 1px, 1px, 1px);height: 1px;margin: -1px;overflow: hidden;padding: 0;position: absolute;width: 1px;}#sk-container-id-1 div.sk-estimator {font-family: monospace;background-color: #f0f8ff;border: 1px dotted black;border-radius: 0.25em;box-sizing: border-box;margin-bottom: 0.5em;}#sk-container-id-1 div.sk-estimator:hover {background-color: #d4ebff;}#sk-container-id-1 div.sk-parallel-item::after {content: \"\";width: 100%;border-bottom: 1px solid gray;flex-grow: 1;}#sk-container-id-1 div.sk-label:hover label.sk-toggleable__label {background-color: #d4ebff;}#sk-container-id-1 div.sk-serial::before {content: \"\";position: absolute;border-left: 1px solid gray;box-sizing: border-box;top: 0;bottom: 0;left: 50%;z-index: 0;}#sk-container-id-1 div.sk-serial {display: flex;flex-direction: column;align-items: center;background-color: white;padding-right: 0.2em;padding-left: 0.2em;position: relative;}#sk-container-id-1 div.sk-item {position: relative;z-index: 1;}#sk-container-id-1 div.sk-parallel {display: flex;align-items: stretch;justify-content: center;background-color: white;position: relative;}#sk-container-id-1 div.sk-item::before, #sk-container-id-1 div.sk-parallel-item::before {content: \"\";position: absolute;border-left: 1px solid gray;box-sizing: border-box;top: 0;bottom: 0;left: 50%;z-index: -1;}#sk-container-id-1 div.sk-parallel-item {display: flex;flex-direction: column;z-index: 1;position: relative;background-color: white;}#sk-container-id-1 div.sk-parallel-item:first-child::after {align-self: flex-end;width: 50%;}#sk-container-id-1 div.sk-parallel-item:last-child::after {align-self: flex-start;width: 50%;}#sk-container-id-1 div.sk-parallel-item:only-child::after {width: 0;}#sk-container-id-1 div.sk-dashed-wrapped {border: 1px dashed gray;margin: 0 0.4em 0.5em 0.4em;box-sizing: border-box;padding-bottom: 0.4em;background-color: white;}#sk-container-id-1 div.sk-label label {font-family: monospace;font-weight: bold;display: inline-block;line-height: 1.2em;}#sk-container-id-1 div.sk-label-container {text-align: center;}#sk-container-id-1 div.sk-container {/* jupyter's `normalize.less` sets `[hidden] { display: none; }` but bootstrap.min.css set `[hidden] { display: none !important; }` so we also need the `!important` here to be able to override the default hidden behavior on the sphinx rendered scikit-learn.org. See: https://github.com/scikit-learn/scikit-learn/issues/21755 */display: inline-block !important;position: relative;}#sk-container-id-1 div.sk-text-repr-fallback {display: none;}</style><div id=\"sk-container-id-1\" class=\"sk-top-container\"><div class=\"sk-text-repr-fallback\"><pre>StandardScaler()</pre><b>In a Jupyter environment, please rerun this cell to show the HTML representation or trust the notebook. <br />On GitHub, the HTML representation is unable to render, please try loading this page with nbviewer.org.</b></div><div class=\"sk-container\" hidden><div class=\"sk-item\"><div class=\"sk-estimator sk-toggleable\"><input class=\"sk-toggleable__control sk-hidden--visually\" id=\"sk-estimator-id-1\" type=\"checkbox\" checked><label for=\"sk-estimator-id-1\" class=\"sk-toggleable__label sk-toggleable__label-arrow\">StandardScaler</label><div class=\"sk-toggleable__content\"><pre>StandardScaler()</pre></div></div></div></div></div>"
      ],
      "text/plain": [
       "StandardScaler()"
      ]
     },
     "execution_count": 14,
     "metadata": {},
     "output_type": "execute_result"
    }
   ],
   "source": [
    "scaler.fit(x_train)"
   ]
  },
  {
   "cell_type": "code",
   "execution_count": 15,
   "id": "seasonal-portsmouth",
   "metadata": {},
   "outputs": [],
   "source": [
    "x_train = scaler.transform(x_train)\n",
    "x_test = scaler.transform(x_test)"
   ]
  },
  {
   "cell_type": "code",
   "execution_count": 16,
   "id": "iraqi-james",
   "metadata": {},
   "outputs": [],
   "source": [
    "number_of_features = x_train.shape[1]\n",
    "output_size = 1"
   ]
  },
  {
   "cell_type": "code",
   "execution_count": 17,
   "id": "opposed-combine",
   "metadata": {},
   "outputs": [],
   "source": [
    "model = Sequential()\n",
    "model.add(Input(shape=(number_of_features, )))\n",
    "model.add(Dense(units=64, activation='relu'))\n",
    "model.add(Dense(units=32, activation='relu'))\n",
    "model.add(Dense(units=output_size))"
   ]
  },
  {
   "cell_type": "code",
   "execution_count": 18,
   "id": "hydraulic-auckland",
   "metadata": {},
   "outputs": [
    {
     "name": "stdout",
     "output_type": "stream",
     "text": [
      "Model: \"sequential\"\n",
      "_________________________________________________________________\n",
      " Layer (type)                Output Shape              Param #   \n",
      "=================================================================\n",
      " dense (Dense)               (None, 64)                3776      \n",
      "                                                                 \n",
      " dense_1 (Dense)             (None, 32)                2080      \n",
      "                                                                 \n",
      " dense_2 (Dense)             (None, 1)                 33        \n",
      "                                                                 \n",
      "=================================================================\n",
      "Total params: 5,889\n",
      "Trainable params: 5,889\n",
      "Non-trainable params: 0\n",
      "_________________________________________________________________\n"
     ]
    }
   ],
   "source": [
    "model.summary()"
   ]
  },
  {
   "cell_type": "code",
   "execution_count": 19,
   "id": "activated-supplement",
   "metadata": {},
   "outputs": [],
   "source": [
    "model.compile(loss=mean_squared_error, optimizer=Adam(learning_rate=0.0001), metrics=[mean_absolute_error])"
   ]
  },
  {
   "cell_type": "code",
   "execution_count": 20,
   "id": "fiscal-tenant",
   "metadata": {},
   "outputs": [],
   "source": [
    "early_stopping = EarlyStopping(monitor='mean_absolute_error', patience=5, min_delta = 20)"
   ]
  },
  {
   "cell_type": "code",
   "execution_count": 21,
   "id": "smoking-recognition",
   "metadata": {},
   "outputs": [
    {
     "name": "stdout",
     "output_type": "stream",
     "text": [
      "Epoch 1/50\n",
      "588/588 [==============================] - 2s 2ms/step - loss: 4023941.0000 - mean_absolute_error: 1673.1545 - val_loss: 3924915.7500 - val_mean_absolute_error: 1652.6256\n",
      "Epoch 2/50\n",
      "588/588 [==============================] - 1s 2ms/step - loss: 3944633.2500 - mean_absolute_error: 1650.0529 - val_loss: 3796022.7500 - val_mean_absolute_error: 1615.0063\n",
      "Epoch 3/50\n",
      "588/588 [==============================] - 1s 2ms/step - loss: 3749153.5000 - mean_absolute_error: 1592.3624 - val_loss: 3532687.2500 - val_mean_absolute_error: 1535.9055\n",
      "Epoch 4/50\n",
      "588/588 [==============================] - 1s 2ms/step - loss: 3417033.5000 - mean_absolute_error: 1490.0068 - val_loss: 3141171.2500 - val_mean_absolute_error: 1410.3943\n",
      "Epoch 5/50\n",
      "588/588 [==============================] - 1s 2ms/step - loss: 2980919.7500 - mean_absolute_error: 1344.0260 - val_loss: 2674752.5000 - val_mean_absolute_error: 1246.1533\n",
      "Epoch 6/50\n",
      "588/588 [==============================] - 1s 2ms/step - loss: 2506585.5000 - mean_absolute_error: 1170.5594 - val_loss: 2209510.0000 - val_mean_absolute_error: 1070.1558\n",
      "Epoch 7/50\n",
      "588/588 [==============================] - 1s 2ms/step - loss: 2069007.7500 - mean_absolute_error: 1007.8047 - val_loss: 1814358.7500 - val_mean_absolute_error: 921.6011\n",
      "Epoch 8/50\n",
      "588/588 [==============================] - 1s 2ms/step - loss: 1727314.5000 - mean_absolute_error: 890.4252 - val_loss: 1534478.8750 - val_mean_absolute_error: 831.2656\n",
      "Epoch 9/50\n",
      "588/588 [==============================] - 1s 2ms/step - loss: 1502413.6250 - mean_absolute_error: 828.9351 - val_loss: 1368202.5000 - val_mean_absolute_error: 793.8279\n",
      "Epoch 10/50\n",
      "588/588 [==============================] - 1s 2ms/step - loss: 1378521.7500 - mean_absolute_error: 808.8867 - val_loss: 1285115.2500 - val_mean_absolute_error: 787.7609\n",
      "Epoch 11/50\n",
      "588/588 [==============================] - 1s 2ms/step - loss: 1317562.5000 - mean_absolute_error: 807.6334 - val_loss: 1245964.0000 - val_mean_absolute_error: 791.1968\n",
      "Epoch 12/50\n",
      "588/588 [==============================] - 1s 2ms/step - loss: 1286333.2500 - mean_absolute_error: 811.3119 - val_loss: 1224992.8750 - val_mean_absolute_error: 794.7316\n",
      "Epoch 13/50\n",
      "588/588 [==============================] - 1s 2ms/step - loss: 1266813.6250 - mean_absolute_error: 812.8615 - val_loss: 1210371.3750 - val_mean_absolute_error: 796.5312\n",
      "Epoch 14/50\n",
      "588/588 [==============================] - 1s 2ms/step - loss: 1251857.5000 - mean_absolute_error: 812.8276 - val_loss: 1198702.3750 - val_mean_absolute_error: 796.6531\n",
      "Epoch 15/50\n",
      "588/588 [==============================] - 1s 2ms/step - loss: 1239441.2500 - mean_absolute_error: 813.2651 - val_loss: 1188796.6250 - val_mean_absolute_error: 794.5425\n"
     ]
    }
   ],
   "source": [
    "history = model.fit(x_train, y_train, epochs=50, validation_split=0.2, verbose = 1, callbacks=[early_stopping])"
   ]
  },
  {
   "cell_type": "code",
   "execution_count": 22,
   "id": "subsequent-eating",
   "metadata": {},
   "outputs": [
    {
     "name": "stdout",
     "output_type": "stream",
     "text": [
      "735/735 [==============================] - 1s 1ms/step - loss: 1224227.1250 - mean_absolute_error: 807.3348\n"
     ]
    },
    {
     "data": {
      "text/plain": [
       "[1224227.125, 807.3347778320312]"
      ]
     },
     "execution_count": 22,
     "metadata": {},
     "output_type": "execute_result"
    }
   ],
   "source": [
    "train_scores = model.evaluate(x_train, y_train, batch_size=32)\n",
    "train_scores"
   ]
  },
  {
   "cell_type": "code",
   "execution_count": 23,
   "id": "clean-biology",
   "metadata": {},
   "outputs": [
    {
     "name": "stdout",
     "output_type": "stream",
     "text": [
      "362/362 [==============================] - 1s 1ms/step - loss: 1218400.0000 - mean_absolute_error: 808.6775\n"
     ]
    },
    {
     "data": {
      "text/plain": [
       "[1218400.0, 808.677490234375]"
      ]
     },
     "execution_count": 23,
     "metadata": {},
     "output_type": "execute_result"
    }
   ],
   "source": [
    "test_scores = model.evaluate(x_test, y_test, batch_size=32)\n",
    "test_scores"
   ]
  },
  {
   "cell_type": "code",
   "execution_count": 24,
   "id": "higher-freedom",
   "metadata": {},
   "outputs": [
    {
     "data": {
      "image/png": "[encoded data removed]",
      "text/plain": [
       "<Figure size 720x288 with 2 Axes>"
      ]
     },
     "metadata": {
      "needs_background": "light"
     },
     "output_type": "display_data"
    }
   ],
   "source": [
    "plt.figure(figsize=(10, 4))\n",
    "\n",
    "plt.subplot(1, 2, 1)\n",
    "plt.title('Loss')\n",
    "plt.plot(history.epoch, history.history['loss'], label='training')\n",
    "plt.plot(history.epoch, history.history['val_loss'], label='validation')\n",
    "plt.legend(loc='best')\n",
    "\n",
    "plt.subplot(1, 2, 2)\n",
    "plt.title('Mae')\n",
    "plt.plot(history.epoch, history.history['mean_absolute_error'], label='training')\n",
    "plt.plot(history.epoch, history.history['val_mean_absolute_error'], label='validation')\n",
    "plt.legend(loc='best')\n",
    "\n",
    "plt.show()"
   ]
  },
  {
   "cell_type": "code",
   "execution_count": null,
   "id": "governing-block",
   "metadata": {},
   "outputs": [],
   "source": []
  }
 ],
 "metadata": {
  "kernelspec": {
   "display_name": "Python 3",
   "language": "python",
   "name": "python3"
  },
  "language_info": {
   "codemirror_mode": {
    "name": "ipython",
    "version": 3
   },
   "file_extension": ".py",
   "mimetype": "text/x-python",
   "name": "python",
   "nbconvert_exporter": "python",
   "pygments_lexer": "ipython3",
   "version": "3.9.1"
  }
 },
 "nbformat": 4,
 "nbformat_minor": 5
}
